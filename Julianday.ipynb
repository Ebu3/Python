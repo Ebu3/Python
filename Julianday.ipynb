{
 "cells": [
  {
   "cell_type": "code",
   "execution_count": 92,
   "metadata": {},
   "outputs": [],
   "source": [
    "def julian_day(D,M,Y):\n",
    "    \n",
    "    if M ==1 or M ==2:\n",
    "        Y = Y - 1\n",
    "        M = M + 12\n",
    "        \n",
    "    A = Y / 100\n",
    "    print(A)\n",
    "    B = A / 4\n",
    "    print(B)\n",
    "    C = 2 - A + B\n",
    "    print(C)\n",
    "    E = ( Y + 4716 ) * 365.25\n",
    "    print(E)\n",
    "    F = ( M + 1) * 30.6001\n",
    "    print(F)\n",
    "    JD = D + int(C) + int(E) + int(F) - 1524.5\n",
    "    return JD\n",
    "    "
   ]
  },
  {
   "cell_type": "code",
   "execution_count": 93,
   "metadata": {},
   "outputs": [
    {
     "name": "stdout",
     "output_type": "stream",
     "text": [
      "20.05\n",
      "5.0125\n",
      "-13.037500000000001\n",
      "2454845.25\n",
      "428.4014\n"
     ]
    },
    {
     "data": {
      "text/plain": [
       "2453737.5"
      ]
     },
     "execution_count": 93,
     "metadata": {},
     "output_type": "execute_result"
    }
   ],
   "source": [
    "julian_day(2,1,2006)"
   ]
  },
  {
   "cell_type": "code",
   "execution_count": 94,
   "metadata": {},
   "outputs": [],
   "source": [
    "def julian_d_h(D,M,Y,H,Mi,S):\n",
    "    JD = julian_day(D,M,Y)\n",
    "    JD = JD +((H+(Mi/60))+(S/3600))/24\n",
    "    return JD"
   ]
  },
  {
   "cell_type": "code",
   "execution_count": 95,
   "metadata": {},
   "outputs": [
    {
     "name": "stdout",
     "output_type": "stream",
     "text": [
      "20.06\n",
      "5.015\n",
      "-13.044999999999998\n",
      "2455210.5\n",
      "306.00100000000003\n"
     ]
    },
    {
     "data": {
      "text/plain": [
       "2454005.7640046296"
      ]
     },
     "execution_count": 95,
     "metadata": {},
     "output_type": "execute_result"
    }
   ],
   "source": [
    "julian_d_h(27,9,2006,6,20,10)"
   ]
  },
  {
   "cell_type": "code",
   "execution_count": 96,
   "metadata": {},
   "outputs": [],
   "source": [
    "def jul(d,m,y):\n",
    "    if m == 1 or m == 2:\n",
    "        y = y - 1\n",
    "        m = m + 12\n",
    "    a = y / 100\n",
    "    print(\"a = \",a)\n",
    "    b = int(a) / 4\n",
    "    print(\"b = \",b)\n",
    "    c = 2 - a + b\n",
    "    print(\"c = \",c)\n",
    "    e = ( y + 4716 ) * 365.25\n",
    "    print(\"e = \",e)\n",
    "    f = ( m + 1) * 30.6001\n",
    "    print(\"f = \",f)\n",
    "    jd = d + int(c) + int(e) + int(f) - 1524.5\n",
    "        \n",
    "    return jd"
   ]
  },
  {
   "cell_type": "code",
   "execution_count": 97,
   "metadata": {},
   "outputs": [
    {
     "name": "stdout",
     "output_type": "stream",
     "text": [
      "a =  20.06\n",
      "b =  5.0\n",
      "c =  -13.059999999999999\n",
      "e =  2455210.5\n",
      "f =  306.00100000000003\n"
     ]
    },
    {
     "data": {
      "text/plain": [
       "2454005.5"
      ]
     },
     "execution_count": 97,
     "metadata": {},
     "output_type": "execute_result"
    }
   ],
   "source": [
    "jul(27,9,2006)"
   ]
  },
  {
   "cell_type": "code",
   "execution_count": null,
   "metadata": {},
   "outputs": [],
   "source": [
    "2453767.5"
   ]
  },
  {
   "cell_type": "code",
   "execution_count": 6,
   "metadata": {},
   "outputs": [
    {
     "data": {
      "text/plain": [
       "2453762.5"
      ]
     },
     "execution_count": 6,
     "metadata": {},
     "output_type": "execute_result"
    }
   ],
   "source": [
    "2453762.5"
   ]
  },
  {
   "cell_type": "code",
   "execution_count": null,
   "metadata": {},
   "outputs": [],
   "source": [
    "\n"
   ]
  },
  {
   "cell_type": "code",
   "execution_count": 29,
   "metadata": {},
   "outputs": [],
   "source": [
    "# jd => tarih ödnüşümü\n",
    "# jd yi bir ut = 0sa dönüştürmek için\n",
    "# jd nin sonu 0.5 ile bitmeli\n",
    "# aşağıdaki işlemlerin sadece tam kısımları alarak\n",
    "# Z = JD + 0.5   int\n",
    "# W = ( Z - 1867216.25) / 36524.25   int\n",
    "# X = W / 4\n",
    "# A = Z + 1 + W - X\n",
    "# B = A + 1524\n",
    "# C = (B-122.1) / 365.25\n",
    "# D = 365.25 * C\n",
    "# E = (B-D)/30.6001\n",
    "# F = 30.6001 x E\n",
    "\n",
    "# Gün = B - D - F\n",
    "\n",
    "# Ay  E - 1 veya E - 13\n",
    "\n",
    "# Yıl = C - 4715 : (ay şubat veya ocak ise) : ay ocak veya şubat değilse => \n"
   ]
  },
  {
   "cell_type": "code",
   "execution_count": 55,
   "metadata": {},
   "outputs": [],
   "source": [
    "def jd_trh(jd):\n",
    "    \n",
    "    z = jd + 0.5\n",
    "    w = ( z - 1867216.25 ) / 36524.25\n",
    "    x = int(w / 4)\n",
    "    a = z + 1 + w - x\n",
    "    b = int(a) + 1524\n",
    "    c = int(( b - 122.1 ) / 365.25)\n",
    "    d = int(c * 365.25)\n",
    "    e = int(( b - d ) / 30.6001)\n",
    "    f = int(e * 30.6001)\n",
    "    \n",
    "    gün = b - d - f\n",
    "    ay = e - 1\n",
    "    yıl = c - 4716\n",
    "    \n",
    "    tarih = gün,ay,yıl\n",
    "    return tarih\n",
    "    \n",
    "    "
   ]
  },
  {
   "cell_type": "code",
   "execution_count": 59,
   "metadata": {},
   "outputs": [
    {
     "data": {
      "text/plain": [
       "(27, 9, 2006)"
      ]
     },
     "execution_count": 59,
     "metadata": {},
     "output_type": "execute_result"
    }
   ],
   "source": [
    "jd_trh(2454005.5)"
   ]
  },
  {
   "cell_type": "code",
   "execution_count": null,
   "metadata": {},
   "outputs": [],
   "source": []
  }
 ],
 "metadata": {
  "kernelspec": {
   "display_name": "Python 3",
   "language": "python",
   "name": "python3"
  },
  "language_info": {
   "codemirror_mode": {
    "name": "ipython",
    "version": 3
   },
   "file_extension": ".py",
   "mimetype": "text/x-python",
   "name": "python",
   "nbconvert_exporter": "python",
   "pygments_lexer": "ipython3",
   "version": "3.8.3"
  }
 },
 "nbformat": 4,
 "nbformat_minor": 4
}
